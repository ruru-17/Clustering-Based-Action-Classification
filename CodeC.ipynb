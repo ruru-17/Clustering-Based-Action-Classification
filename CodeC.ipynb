{
 "cells": [
  {
   "cell_type": "code",
   "execution_count": 1,
   "id": "45af8247",
   "metadata": {
    "execution": {
     "iopub.execute_input": "2025-04-12T10:42:53.243158Z",
     "iopub.status.busy": "2025-04-12T10:42:53.242602Z",
     "iopub.status.idle": "2025-04-12T10:42:57.094450Z",
     "shell.execute_reply": "2025-04-12T10:42:57.093340Z"
    },
    "papermill": {
     "duration": 3.860911,
     "end_time": "2025-04-12T10:42:57.096859",
     "exception": false,
     "start_time": "2025-04-12T10:42:53.235948",
     "status": "completed"
    },
    "tags": []
   },
   "outputs": [],
   "source": [
    "from sklearn.model_selection import train_test_split\n",
    "from sklearn.linear_model import LogisticRegression\n",
    "from sklearn.ensemble import RandomForestClassifier\n",
    "from sklearn.ensemble import GradientBoostingClassifier\n",
    "from sklearn.ensemble import StackingClassifier\n",
    "from sklearn.svm import SVC\n",
    "from sklearn.tree import DecisionTreeClassifier\n",
    "from sklearn.ensemble import AdaBoostClassifier\n",
    "from xgboost import XGBClassifier\n",
    "from imblearn.over_sampling import ADASYN, SMOTE\n",
    "from skopt import BayesSearchCV\n",
    "from sklearn.metrics import f1_score\n",
    "from sklearn.model_selection import StratifiedKFold, GridSearchCV\n",
    "from sklearn.model_selection import StratifiedShuffleSplit\n",
    "from skopt.space import Real, Integer, Categorical\n",
    "from sklearn.metrics import accuracy_score\n",
    "import numpy as np # linear algebra\n",
    "import pandas as pd "
   ]
  },
  {
   "cell_type": "code",
   "execution_count": null,
   "id": "5dec2a8c",
   "metadata": {
    "execution": {
     "iopub.execute_input": "2025-04-12T10:42:57.104986Z",
     "iopub.status.busy": "2025-04-12T10:42:57.104482Z",
     "iopub.status.idle": "2025-04-12T10:42:57.653853Z",
     "shell.execute_reply": "2025-04-12T10:42:57.652755Z"
    },
    "papermill": {
     "duration": 0.55537,
     "end_time": "2025-04-12T10:42:57.655928",
     "exception": false,
     "start_time": "2025-04-12T10:42:57.100558",
     "status": "completed"
    },
    "tags": []
   },
   "outputs": [],
   "source": [
    "df = pd.read_csv(\"FeaturesC/resnet50_features_standardized_l2.csv\", index_col = 'video_id')"
   ]
  },
  {
   "cell_type": "code",
   "execution_count": 3,
   "id": "8b80efed",
   "metadata": {
    "execution": {
     "iopub.execute_input": "2025-04-12T10:42:57.663828Z",
     "iopub.status.busy": "2025-04-12T10:42:57.663208Z",
     "iopub.status.idle": "2025-04-12T10:42:57.669101Z",
     "shell.execute_reply": "2025-04-12T10:42:57.667895Z"
    },
    "papermill": {
     "duration": 0.011946,
     "end_time": "2025-04-12T10:42:57.671142",
     "exception": false,
     "start_time": "2025-04-12T10:42:57.659196",
     "status": "completed"
    },
    "tags": []
   },
   "outputs": [],
   "source": [
    "features = df.values \n",
    "y_train = df.index.map(lambda vid: vid[2:-12]).values\n",
    "\n",
    "X_train = features"
   ]
  },
  {
   "cell_type": "code",
   "execution_count": 4,
   "id": "6cc18260",
   "metadata": {
    "execution": {
     "iopub.execute_input": "2025-04-12T10:42:57.678896Z",
     "iopub.status.busy": "2025-04-12T10:42:57.678507Z",
     "iopub.status.idle": "2025-04-12T10:42:57.687024Z",
     "shell.execute_reply": "2025-04-12T10:42:57.685761Z"
    },
    "papermill": {
     "duration": 0.014422,
     "end_time": "2025-04-12T10:42:57.688861",
     "exception": false,
     "start_time": "2025-04-12T10:42:57.674439",
     "status": "completed"
    },
    "tags": []
   },
   "outputs": [
    {
     "data": {
      "text/plain": [
       "(735, 2048)"
      ]
     },
     "execution_count": 4,
     "metadata": {},
     "output_type": "execute_result"
    }
   ],
   "source": [
    "X_train.shape"
   ]
  },
  {
   "cell_type": "code",
   "execution_count": 5,
   "id": "6a545d3b",
   "metadata": {
    "execution": {
     "iopub.execute_input": "2025-04-12T10:42:57.697375Z",
     "iopub.status.busy": "2025-04-12T10:42:57.696957Z",
     "iopub.status.idle": "2025-04-12T10:42:57.701431Z",
     "shell.execute_reply": "2025-04-12T10:42:57.700199Z"
    },
    "papermill": {
     "duration": 0.010701,
     "end_time": "2025-04-12T10:42:57.703283",
     "exception": false,
     "start_time": "2025-04-12T10:42:57.692582",
     "status": "completed"
    },
    "tags": []
   },
   "outputs": [],
   "source": [
    "# rf = RandomForestClassifier(random_state=42, class_weight=\"balanced\")\n",
    "\n",
    "# param_space = {\n",
    "#     'n_estimators': Integer(1, 300),             \n",
    "#     'max_depth': Integer(1, 20),                  \n",
    "#     'min_samples_split': Integer(2, 20),          \n",
    "#     'min_samples_leaf': Integer(1, 20),           \n",
    "#     'max_features': Categorical(['auto', 'sqrt', 'log2']),\n",
    "#     'criterion': Categorical(['gini', 'entropy'])   \n",
    "# }\n",
    "\n",
    "\n",
    "# bayes_cv = BayesSearchCV(\n",
    "#     estimator=rf,\n",
    "#     search_spaces=param_space,\n",
    "#     n_iter=70, \n",
    "#     scoring='accuracy',\n",
    "#     cv=StratifiedKFold(n_splits=5, shuffle=True, random_state=42), \n",
    "#     n_jobs=-1,  \n",
    "#     random_state=1,\n",
    "#     verbose=4\n",
    "# )"
   ]
  },
  {
   "cell_type": "code",
   "execution_count": 6,
   "id": "bee5b5c6",
   "metadata": {
    "execution": {
     "iopub.execute_input": "2025-04-12T10:42:57.711201Z",
     "iopub.status.busy": "2025-04-12T10:42:57.710830Z",
     "iopub.status.idle": "2025-04-12T10:42:57.715202Z",
     "shell.execute_reply": "2025-04-12T10:42:57.714112Z"
    },
    "papermill": {
     "duration": 0.010493,
     "end_time": "2025-04-12T10:42:57.717147",
     "exception": false,
     "start_time": "2025-04-12T10:42:57.706654",
     "status": "completed"
    },
    "tags": []
   },
   "outputs": [],
   "source": [
    "# bayes_cv.fit(X_train, y_train)\n",
    "# print(\"Best Parameters:\", bayes_cv.best_params_)\n",
    "# import matplotlib.pyplot as plt\n",
    "# plt.plot(bayes_cv.cv_results_['mean_test_score'])\n",
    "# plt.xlabel('Iteration')\n",
    "# plt.ylabel('Mean F1-Score')\n",
    "# plt.title('Convergence Plot')\n",
    "# plt.show()"
   ]
  },
  {
   "cell_type": "code",
   "execution_count": 7,
   "id": "df6176b0",
   "metadata": {
    "execution": {
     "iopub.execute_input": "2025-04-12T10:42:57.725827Z",
     "iopub.status.busy": "2025-04-12T10:42:57.725447Z",
     "iopub.status.idle": "2025-04-12T10:42:57.729691Z",
     "shell.execute_reply": "2025-04-12T10:42:57.728500Z"
    },
    "papermill": {
     "duration": 0.010261,
     "end_time": "2025-04-12T10:42:57.731455",
     "exception": false,
     "start_time": "2025-04-12T10:42:57.721194",
     "status": "completed"
    },
    "tags": []
   },
   "outputs": [],
   "source": [
    "# print(\"Best cross-validated accuracy:\", bayes_cv.best_score_)"
   ]
  },
  {
   "cell_type": "code",
   "execution_count": null,
   "id": "13db84fa",
   "metadata": {
    "execution": {
     "iopub.execute_input": "2025-04-12T10:42:57.739699Z",
     "iopub.status.busy": "2025-04-12T10:42:57.739201Z",
     "iopub.status.idle": "2025-04-12T10:42:57.992012Z",
     "shell.execute_reply": "2025-04-12T10:42:57.990852Z"
    },
    "papermill": {
     "duration": 0.259247,
     "end_time": "2025-04-12T10:42:57.994111",
     "exception": false,
     "start_time": "2025-04-12T10:42:57.734864",
     "status": "completed"
    },
    "tags": []
   },
   "outputs": [],
   "source": [
    "df_test = pd.read_csv(\"FeaturesC/resnet50_test_features_standardized_l2.csv\", index_col = 'video_id')\n",
    "X_test = df_test.values"
   ]
  },
  {
   "cell_type": "code",
   "execution_count": 9,
   "id": "172aca2c",
   "metadata": {
    "execution": {
     "iopub.execute_input": "2025-04-12T10:42:58.003100Z",
     "iopub.status.busy": "2025-04-12T10:42:58.002738Z",
     "iopub.status.idle": "2025-04-12T10:42:58.008522Z",
     "shell.execute_reply": "2025-04-12T10:42:58.007370Z"
    },
    "papermill": {
     "duration": 0.012552,
     "end_time": "2025-04-12T10:42:58.010157",
     "exception": false,
     "start_time": "2025-04-12T10:42:57.997605",
     "status": "completed"
    },
    "tags": []
   },
   "outputs": [
    {
     "data": {
      "text/plain": [
       "(294, 2048)"
      ]
     },
     "execution_count": 9,
     "metadata": {},
     "output_type": "execute_result"
    }
   ],
   "source": [
    "X_test.shape"
   ]
  },
  {
   "cell_type": "code",
   "execution_count": 10,
   "id": "4503039f",
   "metadata": {
    "execution": {
     "iopub.execute_input": "2025-04-12T10:42:58.018318Z",
     "iopub.status.busy": "2025-04-12T10:42:58.017967Z",
     "iopub.status.idle": "2025-04-12T10:42:58.021850Z",
     "shell.execute_reply": "2025-04-12T10:42:58.020802Z"
    },
    "papermill": {
     "duration": 0.009776,
     "end_time": "2025-04-12T10:42:58.023476",
     "exception": false,
     "start_time": "2025-04-12T10:42:58.013700",
     "status": "completed"
    },
    "tags": []
   },
   "outputs": [],
   "source": [
    "# pred = bayes_cv.predict(X_test)"
   ]
  },
  {
   "cell_type": "code",
   "execution_count": 11,
   "id": "df80eba4",
   "metadata": {
    "execution": {
     "iopub.execute_input": "2025-04-12T10:42:58.031664Z",
     "iopub.status.busy": "2025-04-12T10:42:58.031320Z",
     "iopub.status.idle": "2025-04-12T10:43:04.849170Z",
     "shell.execute_reply": "2025-04-12T10:43:04.847969Z"
    },
    "papermill": {
     "duration": 6.824162,
     "end_time": "2025-04-12T10:43:04.851199",
     "exception": false,
     "start_time": "2025-04-12T10:42:58.027037",
     "status": "completed"
    },
    "tags": []
   },
   "outputs": [
    {
     "name": "stderr",
     "output_type": "stream",
     "text": [
      "/usr/local/lib/python3.10/dist-packages/sklearn/ensemble/_forest.py:424: FutureWarning: `max_features='auto'` has been deprecated in 1.1 and will be removed in 1.3. To keep the past behaviour, explicitly set `max_features='sqrt'` or remove this parameter as it is also the default value for RandomForestClassifiers and ExtraTreesClassifiers.\n",
      "  warn(\n"
     ]
    }
   ],
   "source": [
    "best_params = {\n",
    "    'criterion': 'gini',\n",
    "    'max_depth': 20,\n",
    "    'max_features': 'auto',  # 'auto' = sqrt(n_features) for classification\n",
    "    'min_samples_leaf': 6,\n",
    "    'min_samples_split': 2,\n",
    "    'n_estimators': 296,\n",
    "    'random_state': 42  # For reproducibility\n",
    "}\n",
    "\n",
    "rf_model = RandomForestClassifier(**best_params)\n",
    "\n",
    "# Train the model\n",
    "rf_model.fit(X_train, y_train)\n",
    "\n",
    "# Make predictions\n",
    "pred = rf_model.predict(X_test)"
   ]
  },
  {
   "cell_type": "code",
   "execution_count": 12,
   "id": "c46c127a",
   "metadata": {
    "execution": {
     "iopub.execute_input": "2025-04-12T10:43:04.859853Z",
     "iopub.status.busy": "2025-04-12T10:43:04.859503Z",
     "iopub.status.idle": "2025-04-12T10:43:04.871406Z",
     "shell.execute_reply": "2025-04-12T10:43:04.870195Z"
    },
    "papermill": {
     "duration": 0.018337,
     "end_time": "2025-04-12T10:43:04.873367",
     "exception": false,
     "start_time": "2025-04-12T10:43:04.855030",
     "status": "completed"
    },
    "tags": []
   },
   "outputs": [],
   "source": [
    "submission_df = pd.DataFrame({\n",
    "    'ID': df_test.index, \n",
    "    'Label': pred\n",
    "})\n",
    "\n",
    "# Save the submission file as CSV without an extra index column.\n",
    "submission_df.to_csv(\"submission.csv\", index=False)"
   ]
  }
 ],
 "metadata": {
  "kaggle": {
   "accelerator": "none",
   "dataSources": [
    {
     "databundleVersionId": 11358533,
     "sourceId": 95490,
     "sourceType": "competition"
    },
    {
     "datasetId": 7122307,
     "sourceId": 11376225,
     "sourceType": "datasetVersion"
    }
   ],
   "dockerImageVersionId": 30918,
   "isGpuEnabled": false,
   "isInternetEnabled": true,
   "language": "python",
   "sourceType": "notebook"
  },
  "kernelspec": {
   "display_name": "Python 3",
   "language": "python",
   "name": "python3"
  },
  "language_info": {
   "codemirror_mode": {
    "name": "ipython",
    "version": 3
   },
   "file_extension": ".py",
   "mimetype": "text/x-python",
   "name": "python",
   "nbconvert_exporter": "python",
   "pygments_lexer": "ipython3",
   "version": "3.10.12"
  },
  "papermill": {
   "default_parameters": {},
   "duration": 16.01621,
   "end_time": "2025-04-12T10:43:05.698315",
   "environment_variables": {},
   "exception": null,
   "input_path": "__notebook__.ipynb",
   "output_path": "__notebook__.ipynb",
   "parameters": {},
   "start_time": "2025-04-12T10:42:49.682105",
   "version": "2.6.0"
  }
 },
 "nbformat": 4,
 "nbformat_minor": 5
}
